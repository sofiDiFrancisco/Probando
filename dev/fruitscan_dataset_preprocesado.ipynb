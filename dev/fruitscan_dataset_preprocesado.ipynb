{
 "cells": [
  {
   "cell_type": "markdown",
   "id": "713c2013",
   "metadata": {},
   "source": [
    "# Segunda Semana - Entregable: Dataset Preprocesado y Notebook Documentado\n",
    "\n",
    "## Objetivo\n",
    "El propósito de esta etapa es preparar el dataset para tareas de clasificación de imágenes como etapa preliminar del proyecto **FruitScan**, permitiendo establecer un baseline de calidad visual. Se realiza:\n",
    "\n",
    "- Carga y preprocesamiento del dataset.\n",
    "- División en conjunto de entrenamiento y validación.\n",
    "- Visualización de muestras.\n",
    "- Guardado de metadatos.\n"
   ]
  },
  {
   "cell_type": "markdown",
   "id": "137df737",
   "metadata": {},
   "source": [
    "## Importar librerías necesarias"
"Se importan las librerías clave para la manipulación de datos, carga de imágenes y visualización:"
   ]
  },
  {
   "cell_type": "code",
   "execution_count": null,
   "id": "40c5fb00",
   "metadata": {},
   "outputs": [],
   "source": [
    "import os\n",
    "import torch\n",
    "from torchvision import datasets, transforms\n",
    "from torch.utils.data import DataLoader, random_split\n",
    "from PIL import Image\n",
    "import matplotlib.pyplot as plt\n",
    "\n",
    "from google.colab import drive\n",
    "drive.mount('/content/drive')"
   ]
  },
  {
   "cell_type": "markdown",
   "id": "763e3b0f",
   "metadata": {},
   "source": [
    "## Configuración de rutas y parámetros",
"Se definen los parámetros globales y la ubicación del dataset en Google Drive:"
   ]
  },
  {
   "cell_type": "code",
   "execution_count": null,
   "id": "9e1522b7",
   "metadata": {},
   "outputs": [],
   "source": [
    "data_dir = \"/content/drive/MyDrive/FruitScan/data/fruits\"\n",
    "batch_size = 8\n",
    "img_size = 224\n",
    "val_split = 0.2\n",
    "seed = 42"
   ]
  },
  {
   "cell_type": "markdown",
   "id": "874038ec",
   "metadata": {},
   "source": [
    "## Transformaciones",
"Se aplican transformaciones estándar que preparan las imágenes para su uso con modelos preentrenados:"
   ]
  },
  {
   "cell_type": "code",
   "execution_count": null,
   "id": "44a2db4a",
   "metadata": {},
   "outputs": [],
   "source": [
    "transform = transforms.Compose([\n",
    "    transforms.Resize((img_size, img_size)),\n",
    "    transforms.ToTensor(),\n",
    "    transforms.Normalize(mean=[0.485, 0.456, 0.406],\n",
    "                         std=[0.229, 0.224, 0.225])\n",
    "])"
   ]
  },
  {
   "cell_type": "markdown",
   "id": "3b8e4cfe",
   "metadata": {},
   "source": [
    "## Carga del dataset",
"Se utiliza ImageFolder, que asume que las subcarpetas de data_dir representan clases distintas:"
   ]
  },
  {
   "cell_type": "code",
   "execution_count": null,
   "id": "a06f7d22",
   "metadata": {},
   "outputs": [],
   "source": [
    "dataset = datasets.ImageFolder(root=data_dir, transform=transform)\n",
    "class_names = dataset.classes\n",
    "print(f\"Clases detectadas: {class_names}\")"
   ]
  },
  {
   "cell_type": "markdown",
   "id": "f67b199b",
   "metadata": {},
   "source": [
    "## División en entrenamiento y validación",
"Se divide el dataset usando una semilla fija para asegurar reproducibilidad:"
   ]
  },
  {
   "cell_type": "code",
   "execution_count": null,
   "id": "c36717bd",
   "metadata": {},
   "outputs": [],
   "source": [
    "torch.manual_seed(seed)\n",
    "val_size = int(len(dataset) * val_split)\n",
    "train_size = len(dataset) - val_size\n",
    "train_dataset, val_dataset = random_split(dataset, [train_size, val_size])"
   ]
  },
  {
   "cell_type": "markdown",
   "id": "9889f795",
   "metadata": {},
   "source": [
    "## Creación de DataLoaders",
"Los DataLoader permiten iterar en mini-lotes durante el entrenamiento:"
   ]
  },
  {
   "cell_type": "code",
   "execution_count": null,
   "id": "96383a50",
   "metadata": {},
   "outputs": [],
   "source": [
    "train_loader = DataLoader(train_dataset, batch_size=batch_size, shuffle=True)\n",
    "val_loader = DataLoader(val_dataset, batch_size=batch_size)"
   ]
  },
  {
   "cell_type": "markdown",
   "id": "f9e0428c",
   "metadata": {},
   "source": [
    "## Visualización de muestras",
"Se visualizan 4 imágenes con su clase correspondiente para validar la carga:"
   ]
  },
  {
   "cell_type": "code",
   "execution_count": null,
   "id": "1004df68",
   "metadata": {},
   "outputs": [],
   "source": [
    "def show_sample(loader):\n",
    "    images, labels = next(iter(loader))\n",
    "    fig, ax = plt.subplots(1, 4, figsize=(12, 3))\n",
    "    for i in range(4):\n",
    "        img = images[i].permute(1, 2, 0)\n",
    "        img = img * torch.tensor([0.229, 0.224, 0.225]) + torch.tensor([0.485, 0.456, 0.406])  # Desnormalizar\n",
    "        ax[i].imshow(img)\n",
    "        ax[i].set_title(class_names[labels[i]])\n",
    "        ax[i].axis(\"off\")\n",
    "    plt.show()\n",
    "\n",
    "show_sample(train_loader)"
   ]
  },
  {
   "cell_type": "markdown",
   "id": "38f24ebf",
   "metadata": {},
   "source": [
    "## Guardado de metadatos",
"Se guarda la lista de clases detectadas para su uso en modelos futuros:"
   ]
  },
  {
   "cell_type": "code",
   "execution_count": null,
   "id": "fa8c4953",
   "metadata": {},
   "outputs": [],
   "source": [
    "torch.save({\n",
    "    'class_names': class_names\n",
    "}, '/content/drive/MyDrive/FruitScan/data/fruitscan_meta.pth')"
   ]
  },
  {
   "cell_type": "markdown",
   "id": "96d7bdfd",
   "metadata": {},
   "source": [
    "## Comentario final\n",
    "\n",
    "> En futuras etapas, este dataset se extenderá con anotaciones para tareas de **detección de objetos**.  \n",
    "> En esta fase inicial, se emplea clasificación por carpetas para establecer una base funcional de control de calidad visual.\n",
    "\n",
    " **Estado del entregable:**  \n",
    "El dataset fue correctamente cargado, preprocesado, dividido y visualizado. Está listo para entrenar modelos de clasificación como baseline en el proyecto **FruitScan**.\n"
   ]
  }
 ],
 "metadata": {},
 "nbformat": 4,
 "nbformat_minor": 5
}
